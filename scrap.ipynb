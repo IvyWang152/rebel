{
 "cells": [
  {
   "cell_type": "code",
   "execution_count": 3,
   "metadata": {},
   "outputs": [
    {
     "name": "stdout",
     "output_type": "stream",
     "text": [
      "Special tokens used in the tokenizer:\n",
      "{'bos_token': '<s>', 'eos_token': '</s>', 'unk_token': '<unk>', 'sep_token': '</s>', 'pad_token': '<pad>', 'cls_token': '<s>', 'mask_token': '<mask>', 'additional_special_tokens': ['<obj>', '<subj>', '<triplet>', '<head>', '</head>', '<tail>', '</tail>']}\n"
     ]
    }
   ],
   "source": [
    "from transformers import AutoTokenizer, AutoModelForSeq2SeqLM\n",
    "# Load the tokenizer\n",
    "tokenizer = AutoTokenizer.from_pretrained('Babelscape/rebel-large')\n",
    "\n",
    "# Print all special tokens\n",
    "print(\"Special tokens used in the tokenizer:\")\n",
    "print(tokenizer.special_tokens_map)\n"
   ]
  },
  {
   "cell_type": "code",
   "execution_count": 4,
   "metadata": {},
   "outputs": [],
   "source": [
    "model = AutoModelForSeq2SeqLM.from_pretrained('Babelscape/rebel-large')"
   ]
  },
  {
   "cell_type": "code",
   "execution_count": 6,
   "metadata": {},
   "outputs": [],
   "source": [
    "sentence = (\"since some monoclonal or polyclonal human serum antibodies of rheumatoid arthritis ( ra ) \" +\n",
    "            \"or mixed connective tissue disease ( mctd ) have been reported to recognize shared epitopes of\" +\n",
    "            \" denatured igg and dna-histone ( nucleosomes ) , this mrp-2 monoclonal antibody with the similar \" +\n",
    "            \" activity derived from a lupus-prone mouse will be useful for the studies on the etiology of autoantibodies \" + \n",
    "            \" associated with ra , mctd and systemic lupus erythematosus ( sle ) .\")"
   ]
  },
  {
   "cell_type": "code",
   "execution_count": 12,
   "metadata": {},
   "outputs": [
    {
     "name": "stdout",
     "output_type": "stream",
     "text": [
      "Output: <s><triplet> rheumatoid arthritis <subj> autoantibodies <obj> subclass of <triplet> mixed connective tissue disease <subj> autoantibodies <obj> subclass of <triplet> systemic lupus erythematosus <subj> autoantibodies <obj> subclass of</s>\n"
     ]
    }
   ],
   "source": [
    "# Tokenize the input sentence and convert to tensor format\n",
    "input_ids = tokenizer.encode(sentence, return_tensors='pt')\n",
    "\n",
    "# Generate output using the model\n",
    "output_ids = model.generate(input_ids)\n",
    "\n",
    "# Decode the output IDs to a string\n",
    "decoded_output = tokenizer.decode(output_ids[0], skip_special_tokens=False)\n",
    "\n",
    "# Print the model's output\n",
    "print(\"Output:\", decoded_output)"
   ]
  }
 ],
 "metadata": {
  "kernelspec": {
   "display_name": "cs6120-project",
   "language": "python",
   "name": "python3"
  },
  "language_info": {
   "codemirror_mode": {
    "name": "ipython",
    "version": 3
   },
   "file_extension": ".py",
   "mimetype": "text/x-python",
   "name": "python",
   "nbconvert_exporter": "python",
   "pygments_lexer": "ipython3",
   "version": "3.11.8"
  }
 },
 "nbformat": 4,
 "nbformat_minor": 2
}
